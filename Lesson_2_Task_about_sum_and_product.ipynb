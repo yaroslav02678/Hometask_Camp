{
 "cells": [
  {
   "cell_type": "markdown",
   "id": "4fd7725d-a3bd-4894-98c3-e30608a8ad87",
   "metadata": {},
   "source": [
    "There are two whole numbers:  \n",
    "1 < a, b < 100  \n",
    "\n",
    "One scientist (\"Sum\") gets provided with the sum of the numbers,  \n",
    "another scientist (\"Prod\") gets provided with the product of the numbers.  \n",
    "Both scientists know that numbers 1 < a, b < 100.  \n",
    "\n",
    "Determine the numbers being based on the following dialog: \n",
    "\n",
    "    - Prod: I don't know the numbers;\n",
    "    - Sum: I know it;\n",
    "    - Prod: then I know the numbers; \n",
    "    - Sum: then I know the numbers too.\n"
   ]
  },
  {
   "cell_type": "code",
   "execution_count": 3,
   "id": "d9ec3254-ce33-4a15-aa9d-98eb9347719f",
   "metadata": {},
   "outputs": [],
   "source": [
    "def find_pairs_dod_for_array(n):\n",
    "    all_pairs = []\n",
    "    for i in range(2, n // 2 + 1):  \n",
    "        pair = (i, n - i)\n",
    "        if (n - i, i) not in all_pairs:  \n",
    "            all_pairs.append(pair)\n",
    "    return all_pairs"
   ]
  },
  {
   "cell_type": "code",
   "execution_count": 5,
   "id": "61c7b246-2468-46f2-a3ea-2219bf345dbf",
   "metadata": {},
   "outputs": [],
   "source": [
    "import math"
   ]
  },
  {
   "cell_type": "code",
   "execution_count": 7,
   "id": "a0468dcb-92ce-4ed4-930b-b639a5bd6d8c",
   "metadata": {},
   "outputs": [],
   "source": [
    "def dob(pairs):\n",
    "    return pairs[0] * pairs[1]\n"
   ]
  },
  {
   "cell_type": "code",
   "execution_count": 9,
   "id": "cce0c134-baa7-41fd-994b-20d217291898",
   "metadata": {},
   "outputs": [],
   "source": [
    "def sum(pairs):\n",
    "    a, b = pairs\n",
    "    total = a + b\n",
    "    return total"
   ]
  },
  {
   "cell_type": "code",
   "execution_count": 11,
   "id": "29b81446-78b1-41fb-90d3-310fba5c5058",
   "metadata": {},
   "outputs": [],
   "source": [
    "def dob_for_array(pairs):\n",
    "    all_pairs = []\n",
    "    arr0 = pair[0]\n",
    "    arr1 = pair[1]\n",
    "    total = arr0 * arr1\n",
    "    all_pairs.append(total)\n",
    "    return all_pairs"
   ]
  },
  {
   "cell_type": "code",
   "execution_count": null,
   "id": "4a362cb7-e081-4fe4-a170-681449b4bbf7",
   "metadata": {},
   "outputs": [],
   "source": []
  },
  {
   "cell_type": "code",
   "execution_count": 23,
   "id": "d10aefbf-1f9b-4b14-8425-cd5aca666cde",
   "metadata": {},
   "outputs": [],
   "source": [
    "def find_pairs_mn_for_array(n):\n",
    "    n = n[0]\n",
    "    pairs = []\n",
    "    for i in range(2, math.isqrt(n) + 1):  \n",
    "        if n % i == 0:  \n",
    "            pair = (i, n // i) \n",
    "            if i != n // i:  \n",
    "                pairs.append(pair)\n",
    "    return pairs\n"
   ]
  },
  {
   "cell_type": "code",
   "execution_count": 16,
   "id": "a3724589-4d94-47d1-9dd1-b04509dd548a",
   "metadata": {},
   "outputs": [],
   "source": [
    "def find_pairs_mn(n):\n",
    "    pairs = []\n",
    "    for i in range(2, math.isqrt(n) + 1):  \n",
    "        if n % i == 0:  \n",
    "            pair = (i, n // i) \n",
    "            if i != n // i:  \n",
    "                pairs.append(pair)\n",
    "    return pairs\n"
   ]
  },
  {
   "cell_type": "code",
   "execution_count": null,
   "id": "002c0185-5e88-4d05-bfcd-974c88944270",
   "metadata": {},
   "outputs": [],
   "source": [
    "def find_pairs_mn_for_array(n):\n",
    "    pairs = []\n",
    "    for i in range(2, math.isqrt(n) + 1):  \n",
    "        if n % i == 0:  \n",
    "            pair = (i, n // i) \n",
    "            if i != n // i:  \n",
    "                pairs.append(pair)\n",
    "    return pairs"
   ]
  },
  {
   "cell_type": "markdown",
   "id": "a652c971-c5a7-4deb-8292-e8e1703e58a8",
   "metadata": {},
   "source": [
    "## Логіка\n",
    "Задача зводиться до знаходження пари яка не має унікальних добутків (наприклад для 115 єдина пара це 5 і 23, для 77 єдина пара 7 і 11). Нам не підходить унікальна пара оскільки б тоді добуток однозначно знав би a, b. Кроки знаходження унікальної пари:\n",
    "\n",
    "- Розкладаємо добуток на можливі пари\n",
    "- для можливих пар шукаємо їхні суми\n",
    "- для сум шукаємо можливі розклади\n",
    "- для можливих розкладів знаходимо добутки\n",
    "- якщо для можливого добутку існує одна пара, то вважається, що можливий добуток буде унікальним - нам не підходить"
   ]
  },
  {
   "cell_type": "code",
   "execution_count": 25,
   "id": "81a15782-9ba3-4268-9def-4ca7291646da",
   "metadata": {
    "scrolled": true
   },
   "outputs": [
    {
     "name": "stdout",
     "output_type": "stream",
     "text": [
      "need_pair:  (4, 13)\n"
     ]
    }
   ],
   "source": [
    "dob = 52\n",
    "\n",
    "while True:\n",
    "    found = False\n",
    "    find_pairs_mn_for_dob = find_pairs_mn(dob)\n",
    "    for need_pair in find_pairs_mn_for_dob:\n",
    "        sum_array = sum(need_pair) \n",
    "        pairs = find_pairs_dod_for_array(sum_array)\n",
    "        for pair in pairs:\n",
    "            skip = False\n",
    "            dob_pair = dob_for_array(pair)\n",
    "            find_pairs_dod_for_pair = find_pairs_mn_for_array(dob_pair)\n",
    "            if len(find_pairs_dod_for_pair) == 1:\n",
    "                skip = True\n",
    "                break\n",
    "\n",
    "    if not skip:\n",
    "        print(\"need_pair: \", need_pair)\n",
    "        found = True\n",
    "        break\n",
    "\n",
    "    if found:\n",
    "        break\n",
    "        \n",
    "    dob += 1"
   ]
  },
  {
   "cell_type": "code",
   "execution_count": null,
   "id": "e2ab369b-b928-4c37-973b-cdc82313a963",
   "metadata": {},
   "outputs": [],
   "source": []
  }
 ],
 "metadata": {
  "kernelspec": {
   "display_name": "Python [conda env:base] *",
   "language": "python",
   "name": "conda-base-py"
  },
  "language_info": {
   "codemirror_mode": {
    "name": "ipython",
    "version": 3
   },
   "file_extension": ".py",
   "mimetype": "text/x-python",
   "name": "python",
   "nbconvert_exporter": "python",
   "pygments_lexer": "ipython3",
   "version": "3.12.7"
  }
 },
 "nbformat": 4,
 "nbformat_minor": 5
}
