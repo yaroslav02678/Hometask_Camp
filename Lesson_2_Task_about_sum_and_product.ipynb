{
 "cells": [
  {
   "cell_type": "markdown",
   "id": "4fd7725d-a3bd-4894-98c3-e30608a8ad87",
   "metadata": {},
   "source": [
    "There are two whole numbers:  \n",
    "1 < a, b < 100  \n",
    "\n",
    "One scientist (\"Sum\") gets provided with the sum of the numbers,  \n",
    "another scientist (\"Prod\") gets provided with the product of the numbers.  \n",
    "Both scientists know that numbers 1 < a, b < 100.  \n",
    "\n",
    "Determine the numbers being based on the following dialog: \n",
    "\n",
    "    - Prod: I don't know the numbers;\n",
    "    - Sum: I know it;\n",
    "    - Prod: then I know the numbers; \n",
    "    - Sum: then I know the numbers too.\n"
   ]
  },
  {
   "cell_type": "markdown",
   "id": "6d3f14b4-cc22-40fc-af8e-16914c7851cc",
   "metadata": {},
   "source": [
    "### Prod: I don't know the numbers\n",
    "Оскільки він не знає які числа, то має існувати більше ніж одна пара\n",
    "- 1 не включаємо, тому починаємо шукати від 2 \n",
    "- не включаємо добутки які мають унікальний роклад(одна пара)"
   ]
  },
  {
   "cell_type": "code",
   "execution_count": 426,
   "id": "87de13c1-ec8a-4980-b763-8e4877c98b09",
   "metadata": {},
   "outputs": [],
   "source": [
    "def get_possible_products(pairs):\n",
    "    possible_products = {}\n",
    "    for s, pair_list in pairs.items():\n",
    "        for a, b in pair_list:\n",
    "            p = a * b\n",
    "            if p not in possible_products:\n",
    "                possible_products[p] = []\n",
    "            possible_products[p].append((a, b))\n",
    "    return possible_products"
   ]
  },
  {
   "cell_type": "markdown",
   "id": "56fd86c6-b45f-4d2b-8191-0fba2f8f71c1",
   "metadata": {},
   "source": [
    "### Sum: I know it;\n",
    "Знаходимо суми для пар чисел"
   ]
  },
  {
   "cell_type": "code",
   "execution_count": 429,
   "id": "347b96c6-798a-4426-a755-663c87e131b0",
   "metadata": {},
   "outputs": [],
   "source": [
    "def get_possible_sums():\n",
    "    possible_sums = {}\n",
    "    for a in range(2, 100):\n",
    "        for b in range(a + 1, 100):\n",
    "            s = a + b\n",
    "            if s not in possible_sums:\n",
    "                possible_sums[s] = []\n",
    "            possible_sums[s].append((a, b))\n",
    "    return possible_sums"
   ]
  },
  {
   "cell_type": "markdown",
   "id": "95b2d8b0-0884-4757-a57c-2e49979dbd24",
   "metadata": {},
   "source": [
    "### Prod: then I know the numbers;\n",
    "Шукаємо унікальні варіанти"
   ]
  },
  {
   "cell_type": "code",
   "execution_count": 432,
   "id": "89b976ed-4b2a-40b4-946e-18b30118fa83",
   "metadata": {},
   "outputs": [],
   "source": [
    "def filter_sums(possible_sums, possible_products):\n",
    "    valid_sums = {}\n",
    "    for s, pairs in possible_sums.items():\n",
    "        if all(len(possible_products[a * b]) > 1 for a, b in pairs):\n",
    "            valid_sums[s] = pairs\n",
    "    return valid_sums\n"
   ]
  },
  {
   "cell_type": "markdown",
   "id": "e28cebe4-06e6-45f8-935e-98c1f4119fea",
   "metadata": {},
   "source": [
    "### Sum: then I know the numbers too.\n",
    "Виводимо пари"
   ]
  },
  {
   "cell_type": "code",
   "execution_count": 440,
   "id": "3942d608-40ea-4f5d-868a-b04cec664893",
   "metadata": {},
   "outputs": [
    {
     "name": "stdout",
     "output_type": "stream",
     "text": [
      "[(2, 9), (3, 8), (4, 7), (4, 13), (4, 19), (7, 16), (10, 13), (2, 25), (4, 23), (5, 22), (7, 20), (8, 19), (9, 18), (10, 17), (11, 16), (13, 14), (2, 27), (4, 25), (6, 23), (7, 22), (8, 21), (10, 19), (11, 18), (12, 17), (13, 16), (3, 32), (4, 31), (6, 29), (8, 27), (9, 26), (10, 25), (12, 23), (14, 21), (16, 19), (17, 18), (5, 32), (6, 31), (8, 29), (9, 28), (10, 27), (16, 21), (17, 20), (3, 38), (4, 37), (7, 34), (9, 32), (10, 31), (12, 29), (13, 28), (14, 27), (15, 26), (16, 25), (17, 24), (18, 23), (19, 22), (4, 43), (6, 41), (7, 40), (10, 37), (13, 34), (15, 32), (16, 31), (17, 30), (18, 29), (19, 28), (20, 27), (22, 25), (23, 24), (5, 48), (6, 47), (8, 45), (10, 43), (12, 41), (13, 40), (15, 38), (16, 37), (17, 36), (18, 35), (19, 34), (20, 33), (21, 32), (22, 31), (23, 30), (24, 29), (25, 28), (26, 27)]\n"
     ]
    }
   ],
   "source": [
    "def find_unique_solution():\n",
    "    possible_sums = get_possible_sums()\n",
    "    possible_products = get_possible_products(possible_sums)\n",
    "    \n",
    "    valid_sums = filter_sums(possible_sums, possible_products)\n",
    "    filtered_products = get_possible_products(valid_sums)\n",
    "    \n",
    "    final_pairs = []\n",
    "    for p, pairs in filtered_products.items():\n",
    "        if len(pairs) == 1:\n",
    "            final_pairs.append(pairs[0])\n",
    "    \n",
    "    return final_pairs\n",
    "\n",
    "solutions = find_unique_solution()\n",
    "print(solutions)\n"
   ]
  },
  {
   "cell_type": "code",
   "execution_count": null,
   "id": "c0c52605-3cc8-4c47-b90c-72602d5e41dd",
   "metadata": {},
   "outputs": [],
   "source": []
  }
 ],
 "metadata": {
  "kernelspec": {
   "display_name": "Python [conda env:base] *",
   "language": "python",
   "name": "conda-base-py"
  },
  "language_info": {
   "codemirror_mode": {
    "name": "ipython",
    "version": 3
   },
   "file_extension": ".py",
   "mimetype": "text/x-python",
   "name": "python",
   "nbconvert_exporter": "python",
   "pygments_lexer": "ipython3",
   "version": "3.12.7"
  }
 },
 "nbformat": 4,
 "nbformat_minor": 5
}
