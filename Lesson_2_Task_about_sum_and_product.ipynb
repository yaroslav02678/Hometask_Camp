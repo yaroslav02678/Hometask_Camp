{
 "cells": [
  {
   "cell_type": "markdown",
   "id": "4fd7725d-a3bd-4894-98c3-e30608a8ad87",
   "metadata": {},
   "source": [
    "There are two whole numbers:  \n",
    "1 < a, b < 100  \n",
    "\n",
    "One scientist (\"Sum\") gets provided with the sum of the numbers,  \n",
    "another scientist (\"Prod\") gets provided with the product of the numbers.  \n",
    "Both scientists know that numbers 1 < a, b < 100.  \n",
    "\n",
    "Determine the numbers being based on the following dialog: \n",
    "\n",
    "    - Prod: I don't know the numbers;\n",
    "    - Sum: I know it;\n",
    "    - Prod: then I know the numbers; \n",
    "    - Sum: then I know the numbers too.\n"
   ]
  },
  {
   "cell_type": "code",
   "execution_count": 1,
   "id": "d9ec3254-ce33-4a15-aa9d-98eb9347719f",
   "metadata": {},
   "outputs": [],
   "source": [
    "def find_pairs_dod_for_array(n):\n",
    "    all_pairs = []\n",
    "    for i in range(2, n // 2 + 1):  \n",
    "        pair = (i, n - i)\n",
    "        if (n - i, i) not in all_pairs:  \n",
    "            all_pairs.append(pair)\n",
    "    return all_pairs"
   ]
  },
  {
   "cell_type": "code",
   "execution_count": 3,
   "id": "61c7b246-2468-46f2-a3ea-2219bf345dbf",
   "metadata": {},
   "outputs": [],
   "source": [
    "import math"
   ]
  },
  {
   "cell_type": "code",
   "execution_count": 4,
   "id": "a0468dcb-92ce-4ed4-930b-b639a5bd6d8c",
   "metadata": {},
   "outputs": [],
   "source": [
    "def dob(pairs):\n",
    "    return pairs[0] * pairs[1]\n"
   ]
  },
  {
   "cell_type": "code",
   "execution_count": 5,
   "id": "cce0c134-baa7-41fd-994b-20d217291898",
   "metadata": {},
   "outputs": [],
   "source": [
    "def sum(pairs):\n",
    "    a, b = pairs\n",
    "    total = a + b\n",
    "    return total"
   ]
  },
  {
   "cell_type": "code",
   "execution_count": 6,
   "id": "29b81446-78b1-41fb-90d3-310fba5c5058",
   "metadata": {},
   "outputs": [],
   "source": [
    "def dob_for_array(pairs):\n",
    "    all_pairs = []\n",
    "    arr0 = pair[0]\n",
    "    arr1 = pair[1]\n",
    "    total = arr0 * arr1\n",
    "    all_pairs.append(total)\n",
    "    return all_pairs"
   ]
  },
  {
   "cell_type": "code",
   "execution_count": 11,
   "id": "d10aefbf-1f9b-4b14-8425-cd5aca666cde",
   "metadata": {},
   "outputs": [],
   "source": [
    "def find_pairs_mn_for_array(n):\n",
    "    n = n[0]\n",
    "    pairs = []\n",
    "    for i in range(2, math.isqrt(n) + 1):  \n",
    "        if n % i == 0:  \n",
    "            pair = (i, n // i) \n",
    "            if i != n // i:  \n",
    "                pairs.append(pair)\n",
    "    return pairs\n"
   ]
  },
  {
   "cell_type": "code",
   "execution_count": 13,
   "id": "a3724589-4d94-47d1-9dd1-b04509dd548a",
   "metadata": {},
   "outputs": [],
   "source": [
    "def find_pairs_mn(n):\n",
    "    pairs = []\n",
    "    for i in range(2, math.isqrt(n) + 1):  \n",
    "        if n % i == 0:  \n",
    "            pair = (i, n // i) \n",
    "            if i != n // i:  \n",
    "                pairs.append(pair)\n",
    "    return pairs\n"
   ]
  },
  {
   "cell_type": "markdown",
   "id": "a652c971-c5a7-4deb-8292-e8e1703e58a8",
   "metadata": {},
   "source": [
    "## Логіка\n",
    "Задача зводиться до знаходження пари яка не має унікальних добутків (наприклад для 115 єдина пара це 5 і 23, для 77 єдина пара 7 і 11). Нам не підходить унікальна пара оскільки б тоді добуток однозначно знав би a, b. Кроки знаходження унікальної пари:\n",
    "\n",
    "- Розкладаємо добуток на можливі пари\n",
    "- для можливих пар шукаємо їхні суми\n",
    "- для сум шукаємо можливі розклади\n",
    "- для можливих розкладів знаходимо добутки\n",
    "- якщо для можливого добутку існує одна пара, то вважається, що можливий добуток буде унікальним - нам не підходить"
   ]
  },
  {
   "cell_type": "code",
   "execution_count": 17,
   "id": "81a15782-9ba3-4268-9def-4ca7291646da",
   "metadata": {
    "scrolled": true
   },
   "outputs": [
    {
     "name": "stdout",
     "output_type": "stream",
     "text": [
      "\n",
      "Добуток 51\n",
      "Можливі пари множників:  [(3, 17)]\n",
      "Пара:  (3, 17)\n",
      "Сума:  20\n",
      "Можливі пари для суми:  [(2, 18), (3, 17), (4, 16), (5, 15), (6, 14), (7, 13), (8, 12), (9, 11), (10, 10)]\n",
      "Пара:  (2, 18)\n",
      "Добуток пари:  [36]\n",
      "Можливі пари множників:  [(2, 18), (3, 12), (4, 9)]\n",
      "Пара:  (3, 17)\n",
      "Добуток пари:  [51]\n",
      "Можливі пари множників:  [(3, 17)]\n",
      "Оскільки існує всього лиш одна пара для цього добутку, вона ввважається унікальною і така пара нам не підходить:  (3, 17)\n",
      "\n",
      "Добуток 52\n",
      "Можливі пари множників:  [(2, 26), (4, 13)]\n",
      "Пара:  (2, 26)\n",
      "Сума:  28\n",
      "Можливі пари для суми:  [(2, 26), (3, 25), (4, 24), (5, 23), (6, 22), (7, 21), (8, 20), (9, 19), (10, 18), (11, 17), (12, 16), (13, 15), (14, 14)]\n",
      "Пара:  (2, 26)\n",
      "Добуток пари:  [52]\n",
      "Можливі пари множників:  [(2, 26), (4, 13)]\n",
      "Пара:  (3, 25)\n",
      "Добуток пари:  [75]\n",
      "Можливі пари множників:  [(3, 25), (5, 15)]\n",
      "Пара:  (4, 24)\n",
      "Добуток пари:  [96]\n",
      "Можливі пари множників:  [(2, 48), (3, 32), (4, 24), (6, 16), (8, 12)]\n",
      "Пара:  (5, 23)\n",
      "Добуток пари:  [115]\n",
      "Можливі пари множників:  [(5, 23)]\n",
      "Оскільки існує всього лиш одна пара для цього добутку, вона ввважається унікальною і така пара нам не підходить:  (2, 26)\n",
      "Пара:  (4, 13)\n",
      "Сума:  17\n",
      "Можливі пари для суми:  [(2, 15), (3, 14), (4, 13), (5, 12), (6, 11), (7, 10), (8, 9)]\n",
      "Пара:  (2, 15)\n",
      "Добуток пари:  [30]\n",
      "Можливі пари множників:  [(2, 15), (3, 10), (5, 6)]\n",
      "Пара:  (3, 14)\n",
      "Добуток пари:  [42]\n",
      "Можливі пари множників:  [(2, 21), (3, 14), (6, 7)]\n",
      "Пара:  (4, 13)\n",
      "Добуток пари:  [52]\n",
      "Можливі пари множників:  [(2, 26), (4, 13)]\n",
      "Пара:  (5, 12)\n",
      "Добуток пари:  [60]\n",
      "Можливі пари множників:  [(2, 30), (3, 20), (4, 15), (5, 12), (6, 10)]\n",
      "Пара:  (6, 11)\n",
      "Добуток пари:  [66]\n",
      "Можливі пари множників:  [(2, 33), (3, 22), (6, 11)]\n",
      "Пара:  (7, 10)\n",
      "Добуток пари:  [70]\n",
      "Можливі пари множників:  [(2, 35), (5, 14), (7, 10)]\n",
      "Пара:  (8, 9)\n",
      "Добуток пари:  [72]\n",
      "Можливі пари множників:  [(2, 36), (3, 24), (4, 18), (6, 12), (8, 9)]\n",
      "Оскільки не було знайдено унікальної пари, пара нам підходить\n",
      "(4, 13)\n"
     ]
    }
   ],
   "source": [
    "dob = 51\n",
    "\n",
    "while True:\n",
    "    found = False\n",
    "    print()\n",
    "    print(\"Добуток\", dob)\n",
    "    find_pairs_mn_for_dob = find_pairs_mn(dob)\n",
    "    print(\"Можливі пари множників: \", find_pairs_mn_for_dob)\n",
    "    for need_pair in find_pairs_mn_for_dob:\n",
    "        print(\"Пара: \", need_pair)\n",
    "        sum_array = sum(need_pair)\n",
    "        print(\"Сума: \" , sum_array)\n",
    "        pairs = find_pairs_dod_for_array(sum_array)\n",
    "        print(\"Можливі пари для суми: \", pairs)\n",
    "        for pair in pairs:\n",
    "            skip = False\n",
    "            print(\"Пара: \", pair)\n",
    "            dob_pair = dob_for_array(pair)\n",
    "            print(\"Добуток пари: \", dob_pair)\n",
    "            find_pairs_dod_for_pair = find_pairs_mn_for_array(dob_pair)\n",
    "            print(\"Можливі пари множників: \", find_pairs_dod_for_pair)\n",
    "            if len(find_pairs_dod_for_pair) == 1:\n",
    "                print(\"Оскільки існує всього лиш одна пара для цього добутку, вона ввважається унікальною і така пара нам не підходить: \", need_pair)\n",
    "                skip = True\n",
    "                break\n",
    "\n",
    "    if not skip:\n",
    "        print(\"Оскільки не було знайдено унікальної пари, пара нам підходить\")\n",
    "        print(need_pair)\n",
    "        found = True\n",
    "        break\n",
    "\n",
    "    if found:\n",
    "        break\n",
    "        \n",
    "    dob += 1"
   ]
  },
  {
   "cell_type": "code",
   "execution_count": null,
   "id": "e2ab369b-b928-4c37-973b-cdc82313a963",
   "metadata": {},
   "outputs": [],
   "source": []
  },
  {
   "cell_type": "code",
   "execution_count": null,
   "id": "b489cf8b-d0c7-4a41-b069-d419700e834c",
   "metadata": {},
   "outputs": [],
   "source": []
  }
 ],
 "metadata": {
  "kernelspec": {
   "display_name": "Python [conda env:base] *",
   "language": "python",
   "name": "conda-base-py"
  },
  "language_info": {
   "codemirror_mode": {
    "name": "ipython",
    "version": 3
   },
   "file_extension": ".py",
   "mimetype": "text/x-python",
   "name": "python",
   "nbconvert_exporter": "python",
   "pygments_lexer": "ipython3",
   "version": "3.12.7"
  }
 },
 "nbformat": 4,
 "nbformat_minor": 5
}
