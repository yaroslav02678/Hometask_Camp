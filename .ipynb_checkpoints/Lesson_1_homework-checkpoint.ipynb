{
 "cells": [
  {
   "cell_type": "markdown",
   "id": "4fc342a9",
   "metadata": {},
   "source": [
    "### Моє робоче середовище\n",
    "\n",
    "#### Версія Python\n",
    "<img src=\"image/python_version.jpg\">"
   ]
  },
  {
   "cell_type": "markdown",
   "id": "ffd600c3",
   "metadata": {},
   "source": [
    "### Версія Conda\n",
    "<img src=\"image/conda_version.jpg\">\n"
   ]
  },
  {
   "cell_type": "markdown",
   "id": "42bbb8eb",
   "metadata": {},
   "source": [
    "### Версія Jupyther notebook\n",
    "<img src=\"image/jupyter_notebook_version.jpg\">"
   ]
  }
 ],
 "metadata": {
  "kernelspec": {
   "display_name": "Python [conda env:base] *",
   "language": "python",
   "name": "conda-base-py"
  },
  "language_info": {
   "codemirror_mode": {
    "name": "ipython",
    "version": 3
   },
   "file_extension": ".py",
   "mimetype": "text/x-python",
   "name": "python",
   "nbconvert_exporter": "python",
   "pygments_lexer": "ipython3",
   "version": "3.12.7"
  }
 },
 "nbformat": 4,
 "nbformat_minor": 5
}
