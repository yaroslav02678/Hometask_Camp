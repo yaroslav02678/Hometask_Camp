{
 "cells": [
  {
   "cell_type": "markdown",
   "id": "4fd7725d-a3bd-4894-98c3-e30608a8ad87",
   "metadata": {},
   "source": [
    "There are two whole numbers:  \n",
    "1 < a, b < 100  \n",
    "\n",
    "One scientist (\"Sum\") gets provided with the sum of the numbers,  \n",
    "another scientist (\"Prod\") gets provided with the product of the numbers.  \n",
    "Both scientists know that numbers 1 < a, b < 100.  \n",
    "\n",
    "Determine the numbers being based on the following dialog: \n",
    "\n",
    "    - Prod: I don't know the numbers;\n",
    "    - Sum: I know it;\n",
    "    - Prod: then I know the numbers; \n",
    "    - Sum: then I know the numbers too.\n"
   ]
  },
  {
   "cell_type": "code",
   "execution_count": 615,
   "id": "dcf95c5e-be3a-4db9-a08c-6b15faea44f0",
   "metadata": {},
   "outputs": [],
   "source": [
    "def find_pairs_dod(n):\n",
    "    pairs = []\n",
    "    for i in range(2, n // 2 + 1):  \n",
    "        pair = (i, n - i)\n",
    "        if (n - i, i) not in pairs:  \n",
    "            pairs.append(pair)  \n",
    "    return pairs\n"
   ]
  },
  {
   "cell_type": "code",
   "execution_count": 43,
   "id": "d9ec3254-ce33-4a15-aa9d-98eb9347719f",
   "metadata": {},
   "outputs": [],
   "source": [
    "def find_pairs_dod_for_array(n):\n",
    "    all_pairs = []\n",
    "    for i in range(2, n // 2 + 1):  \n",
    "        pair = (i, n - i)\n",
    "        if (n - i, i) not in all_pairs:  \n",
    "            all_pairs.append(pair)\n",
    "    return all_pairs"
   ]
  },
  {
   "cell_type": "code",
   "execution_count": null,
   "id": "2ddd2ea5-1ac6-4baf-9bf9-62cc46299df4",
   "metadata": {},
   "outputs": [],
   "source": [
    "def find_pairs_dod_for_array(arr):\n",
    "    all_pairs = []\n",
    "    for num in arr:\n",
    "        n = num\n",
    "        for i in range(2, n // 2 + 1):  \n",
    "            pair = (i, n - i)\n",
    "            if (n - i, i) not in pairs:  \n",
    "                all_pairs.append(pair)\n",
    "    return all_pairs"
   ]
  },
  {
   "cell_type": "code",
   "execution_count": null,
   "id": "1c946b14-e737-45b4-9f1a-8e1da8b3d318",
   "metadata": {},
   "outputs": [],
   "source": [
    "def find_pairs_dod_for_array(arr):\n",
    "    all_pairs = []\n",
    "    for num in arr:\n",
    "        num0 = num[0]\n",
    "        num1 = num[1]\n",
    "        total = num0 + num1\n",
    "        pair = find_pairs_dod(total)  \n",
    "        all_pairs.append(pair)\n",
    "    return all_pairs"
   ]
  },
  {
   "cell_type": "code",
   "execution_count": 13,
   "id": "61c7b246-2468-46f2-a3ea-2219bf345dbf",
   "metadata": {},
   "outputs": [],
   "source": [
    "import math"
   ]
  },
  {
   "cell_type": "code",
   "execution_count": 77,
   "id": "a0468dcb-92ce-4ed4-930b-b639a5bd6d8c",
   "metadata": {},
   "outputs": [],
   "source": [
    "def dob(pairs):\n",
    "    return pairs[0] * pairs[1]\n"
   ]
  },
  {
   "cell_type": "code",
   "execution_count": 917,
   "id": "a6af0589-fb0c-4b6a-8f3b-da8e347049da",
   "metadata": {},
   "outputs": [
    {
     "name": "stdout",
     "output_type": "stream",
     "text": [
      "1\n",
      "2\n"
     ]
    }
   ],
   "source": [
    "dob((1,2))"
   ]
  },
  {
   "cell_type": "code",
   "execution_count": null,
   "id": "728a4aa3-4d5f-496d-b3b4-ba92f8b4af8d",
   "metadata": {},
   "outputs": [],
   "source": [
    "def dob(pair):\n",
    "    print(pair)\n",
    "    if isinstance(pair, tuple) and len(pair) == 2:\n",
    "        a, b = pair\n",
    "        return a * b\n",
    "    else:\n",
    "        raise ValueError(\"Input should be a tuple with two elements.\")"
   ]
  },
  {
   "cell_type": "code",
   "execution_count": 19,
   "id": "cce0c134-baa7-41fd-994b-20d217291898",
   "metadata": {},
   "outputs": [],
   "source": [
    "def sum(pairs):\n",
    "    a, b = pairs\n",
    "    total = a + b\n",
    "    return total"
   ]
  },
  {
   "cell_type": "code",
   "execution_count": 55,
   "id": "29b81446-78b1-41fb-90d3-310fba5c5058",
   "metadata": {},
   "outputs": [],
   "source": [
    "def dob_for_array(pairs):\n",
    "    all_pairs = []\n",
    "    arr0 = pair[0]\n",
    "    arr1 = pair[1]\n",
    "    total = arr0 * arr1\n",
    "    all_pairs.append(total)\n",
    "    return all_pairs"
   ]
  },
  {
   "cell_type": "code",
   "execution_count": 659,
   "id": "4a362cb7-e081-4fe4-a170-681449b4bbf7",
   "metadata": {},
   "outputs": [],
   "source": [
    "def dob_for_array(pairs):\n",
    "    all_pairs = []\n",
    "    for pair in pairs:\n",
    "        arr0 = pair[0]\n",
    "        arr1 = pair[1]\n",
    "        total = arr0 * arr1\n",
    "        all_pairs.append(total)\n",
    "    return all_pairs"
   ]
  },
  {
   "cell_type": "code",
   "execution_count": 51,
   "id": "44a4887c-b77c-49d9-8f7f-23ca518c14c0",
   "metadata": {},
   "outputs": [],
   "source": [
    "def dob_for_array(pairs):\n",
    "    all_pairs = []\n",
    "    for pair in pairs:\n",
    "        arr0 = pair[0]\n",
    "        arr1 = pair[1]\n",
    "        total = arr0 * arr1\n",
    "        all_pairs.append(total)\n",
    "    return all_pairs"
   ]
  },
  {
   "cell_type": "code",
   "execution_count": 69,
   "id": "d10aefbf-1f9b-4b14-8425-cd5aca666cde",
   "metadata": {},
   "outputs": [],
   "source": [
    "def find_pairs_mn_for_array(n):\n",
    "    n = n[0]\n",
    "    pairs = []\n",
    "    for i in range(2, math.isqrt(n) + 1):  \n",
    "        if n % i == 0:  \n",
    "            pair = (i, n // i) \n",
    "            if i != n // i:  \n",
    "                pairs.append(pair)\n",
    "    return pairs\n"
   ]
  },
  {
   "cell_type": "code",
   "execution_count": 9,
   "id": "a3724589-4d94-47d1-9dd1-b04509dd548a",
   "metadata": {},
   "outputs": [],
   "source": [
    "def find_pairs_mn(n):\n",
    "    pairs = []\n",
    "    for i in range(2, math.isqrt(n) + 1):  \n",
    "        if n % i == 0:  \n",
    "            pair = (i, n // i) \n",
    "            if i != n // i:  \n",
    "                pairs.append(pair)\n",
    "    return pairs\n"
   ]
  },
  {
   "cell_type": "code",
   "execution_count": 29,
   "id": "002c0185-5e88-4d05-bfcd-974c88944270",
   "metadata": {},
   "outputs": [],
   "source": [
    "def find_pairs_mn_for_array(n):\n",
    "    pairs = []\n",
    "    for i in range(2, math.isqrt(n) + 1):  \n",
    "        if n % i == 0:  \n",
    "            pair = (i, n // i) \n",
    "            if i != n // i:  \n",
    "                pairs.append(pair)\n",
    "    return pairs\n"
   ]
  },
  {
   "cell_type": "code",
   "execution_count": 850,
   "id": "b1287c2a-3253-4119-9b88-053b3dc2f549",
   "metadata": {},
   "outputs": [
    {
     "name": "stdout",
     "output_type": "stream",
     "text": [
      "[(2, 9), (3, 6)]\n"
     ]
    },
    {
     "ename": "TypeError",
     "evalue": "unsupported operand type(s) for //: 'tuple' and 'int'",
     "output_type": "error",
     "traceback": [
      "\u001b[1;31m---------------------------------------------------------------------------\u001b[0m",
      "\u001b[1;31mTypeError\u001b[0m                                 Traceback (most recent call last)",
      "Cell \u001b[1;32mIn[850], line 7\u001b[0m\n\u001b[0;32m      5\u001b[0m mn \u001b[38;5;241m=\u001b[39m find_pairs_mn(dob1)\n\u001b[0;32m      6\u001b[0m \u001b[38;5;28mprint\u001b[39m(mn)\n\u001b[1;32m----> 7\u001b[0m pairs \u001b[38;5;241m=\u001b[39m find_pairs_dod_for_array(mn)\n\u001b[0;32m      8\u001b[0m \u001b[38;5;28mprint\u001b[39m(pairs)\n\u001b[0;32m      9\u001b[0m \u001b[38;5;28;01mfor\u001b[39;00m pair_list \u001b[38;5;129;01min\u001b[39;00m pairs: \n",
      "Cell \u001b[1;32mIn[667], line 5\u001b[0m, in \u001b[0;36mfind_pairs_dod_for_array\u001b[1;34m(arr)\u001b[0m\n\u001b[0;32m      3\u001b[0m \u001b[38;5;28;01mfor\u001b[39;00m num \u001b[38;5;129;01min\u001b[39;00m arr:\n\u001b[0;32m      4\u001b[0m     n \u001b[38;5;241m=\u001b[39m num\n\u001b[1;32m----> 5\u001b[0m     \u001b[38;5;28;01mfor\u001b[39;00m i \u001b[38;5;129;01min\u001b[39;00m \u001b[38;5;28mrange\u001b[39m(\u001b[38;5;241m2\u001b[39m, n \u001b[38;5;241m/\u001b[39m\u001b[38;5;241m/\u001b[39m \u001b[38;5;241m2\u001b[39m \u001b[38;5;241m+\u001b[39m \u001b[38;5;241m1\u001b[39m):  \n\u001b[0;32m      6\u001b[0m         pair \u001b[38;5;241m=\u001b[39m (i, n \u001b[38;5;241m-\u001b[39m i)\n\u001b[0;32m      7\u001b[0m         \u001b[38;5;28;01mif\u001b[39;00m (n \u001b[38;5;241m-\u001b[39m i, i) \u001b[38;5;129;01mnot\u001b[39;00m \u001b[38;5;129;01min\u001b[39;00m pairs:  \n",
      "\u001b[1;31mTypeError\u001b[0m: unsupported operand type(s) for //: 'tuple' and 'int'"
     ]
    }
   ],
   "source": [
    "dob1 = 18\n",
    "\n",
    "while True:\n",
    "    found = False\n",
    "    mn = find_pairs_mn(dob1)\n",
    "    print(mn)\n",
    "    pairs = find_pairs_dod_for_array(mn)\n",
    "    print(pairs)\n",
    "    for pair_list in pairs: \n",
    "        skip = False\n",
    "        print(pair_list)\n",
    "        for pair in pair_list: \n",
    "            d = dob(pair)  \n",
    "            print(d)\n",
    "            f = find_pairs_mn(d)\n",
    "            print(f)\n",
    "            if len(f) == 1:\n",
    "                skip = True\n",
    "                break\n",
    "        if not skip:\n",
    "            for pair in pair_list:\n",
    "                if dob(pair) == dob1:\n",
    "                    print(pair)\n",
    "                    print(pair_list)\n",
    "                    found = True\n",
    "                    break\n",
    "        if found:\n",
    "            break\n",
    "\n",
    "    if found:\n",
    "        break\n",
    "    \n",
    "    dob1 += 1\n"
   ]
  },
  {
   "cell_type": "code",
   "execution_count": 878,
   "id": "0bc87cb7-1e80-4422-a2e1-d75583b67b21",
   "metadata": {
    "scrolled": true
   },
   "outputs": [
    {
     "name": "stdout",
     "output_type": "stream",
     "text": [
      "52\n",
      "[(2, 26), (4, 13)]\n",
      "[28, 17]\n",
      "[(2, 26), (3, 25), (4, 24), (5, 23), (6, 22), (7, 21), (8, 20), (9, 19), (10, 18), (11, 17), (12, 16), (13, 15), (2, 15), (3, 14), (4, 13), (5, 12), (6, 11), (7, 10), (8, 9)]\n",
      "(2, 26)\n",
      "52\n",
      "[(2, 26), (4, 13)]\n",
      "(3, 25)\n",
      "75\n",
      "[(3, 25), (5, 15)]\n",
      "(4, 24)\n",
      "96\n",
      "[(2, 48), (3, 32), (4, 24), (6, 16), (8, 12)]\n",
      "(5, 23)\n",
      "115\n",
      "[(5, 23)]\n"
     ]
    }
   ],
   "source": [
    "dob1 = 52\n",
    "\n",
    "while dob1 < 53:\n",
    "    print(dob1)\n",
    "    found = False\n",
    "    find_pairs = find_pairs_mn(dob1)\n",
    "    print(find_pairs)\n",
    "    sum_array = [sum(pair) for pair in find_pairs]    \n",
    "    print(sum_array)\n",
    "    pairs = find_pairs_dod_for_array(sum_array)\n",
    "    print(pairs)\n",
    "    for pair_list in pairs: \n",
    "        skip = False\n",
    "        print(pair_list)\n",
    "        d = dob(pair_list)  \n",
    "        print(d)\n",
    "        f = find_pairs_mn(d)\n",
    "        print(f)\n",
    "        if len(f) == 1:\n",
    "            skip = True\n",
    "            break\n",
    "            \n",
    "    if not skip:\n",
    "        if dob(pair_list) == dob1:\n",
    "            print(pair)\n",
    "            print(pair_list)\n",
    "            found = True\n",
    "            break\n",
    "\n",
    "    if found:\n",
    "        break\n",
    "    dob1 += 1\n"
   ]
  },
  {
   "cell_type": "code",
   "execution_count": 121,
   "id": "a922697a-7f94-4fa1-8222-79ad43b61b0f",
   "metadata": {},
   "outputs": [
    {
     "name": "stdout",
     "output_type": "stream",
     "text": [
      "[(2, 26), (4, 13)]\n",
      "28\n",
      "[(2, 26), (3, 25), (4, 24), (5, 23), (6, 22), (7, 21), (8, 20), (9, 19), (10, 18), (11, 17), (12, 16), (13, 15), (14, 14)]\n",
      "[52]\n",
      "[(2, 26), (4, 13)]\n",
      "[75]\n",
      "[(3, 25), (5, 15)]\n",
      "[96]\n",
      "[(2, 48), (3, 32), (4, 24), (6, 16), (8, 12)]\n",
      "[115]\n",
      "[(5, 23)]\n",
      "[(2, 26), (4, 13)]\n",
      "Pairs:  [(2, 26), (3, 25), (4, 24), (5, 23), (6, 22), (7, 21), (8, 20), (9, 19), (10, 18), (11, 17), (12, 16), (13, 15), (14, 14)]\n",
      "17\n",
      "[(2, 15), (3, 14), (4, 13), (5, 12), (6, 11), (7, 10), (8, 9)]\n",
      "[30]\n",
      "[(2, 15), (3, 10), (5, 6)]\n",
      "[42]\n",
      "[(2, 21), (3, 14), (6, 7)]\n",
      "[52]\n",
      "[(2, 26), (4, 13)]\n",
      "[60]\n",
      "[(2, 30), (3, 20), (4, 15), (5, 12), (6, 10)]\n",
      "[66]\n",
      "[(2, 33), (3, 22), (6, 11)]\n",
      "[70]\n",
      "[(2, 35), (5, 14), (7, 10)]\n",
      "[72]\n",
      "[(2, 36), (3, 24), (4, 18), (6, 12), (8, 9)]\n",
      "need_pair:  (4, 13)\n"
     ]
    }
   ],
   "source": [
    "dob = 52\n",
    "\n",
    "while True:\n",
    "    found = False\n",
    "    find_pairs_mn_for_dob = find_pairs_mn(dob)\n",
    "    print(find_pairs_mn_for_dob)\n",
    "    for need_pair in find_pairs_mn_for_dob:\n",
    "        sum_array = sum(need_pair) \n",
    "        print(sum_array)\n",
    "        pairs = find_pairs_dod_for_array(sum_array)\n",
    "        print(pairs)\n",
    "        for pair in pairs:\n",
    "            skip = False\n",
    "            dob_pair = dob_for_array(pair)\n",
    "            print(dob_pair)\n",
    "            find_pairs_dod_for_pair = find_pairs_mn_for_array(dob_pair)\n",
    "            print(find_pairs_dod_for_pair)\n",
    "            if len(find_pairs_dod_for_pair) == 1:\n",
    "                skip = True\n",
    "                print(find_pairs_mn_for_dob)\n",
    "                print(\"Pairs: \", pairs)\n",
    "                break\n",
    "\n",
    "        if not skip:\n",
    "            print(\"need_pair: \", need_pair)\n",
    "            found = True\n",
    "            break\n",
    "\n",
    "    if found:\n",
    "        break\n",
    "        \n",
    "    dob += 1"
   ]
  },
  {
   "cell_type": "code",
   "execution_count": 135,
   "id": "81a15782-9ba3-4268-9def-4ca7291646da",
   "metadata": {},
   "outputs": [
    {
     "name": "stdout",
     "output_type": "stream",
     "text": [
      "need_pair:  (4, 13)\n"
     ]
    }
   ],
   "source": [
    "dob = 2\n",
    "\n",
    "while True:\n",
    "    found = False\n",
    "    find_pairs_mn_for_dob = find_pairs_mn(dob)\n",
    "    for need_pair in find_pairs_mn_for_dob:\n",
    "        sum_array = sum(need_pair) \n",
    "        pairs = find_pairs_dod_for_array(sum_array)\n",
    "        for pair in pairs:\n",
    "            skip = False\n",
    "            dob_pair = dob_for_array(pair)\n",
    "            find_pairs_dod_for_pair = find_pairs_mn_for_array(dob_pair)\n",
    "            if len(find_pairs_dod_for_pair) == 1:\n",
    "                skip = True\n",
    "                break\n",
    "\n",
    "    if not skip:\n",
    "        print(\"need_pair: \", need_pair)\n",
    "        found = True\n",
    "        break\n",
    "\n",
    "    if found:\n",
    "        break\n",
    "        \n",
    "    dob += 1"
   ]
  },
  {
   "cell_type": "code",
   "execution_count": null,
   "id": "c1f964bf-1b6c-4287-aed1-670867216461",
   "metadata": {},
   "outputs": [],
   "source": []
  }
 ],
 "metadata": {
  "kernelspec": {
   "display_name": "Python [conda env:base] *",
   "language": "python",
   "name": "conda-base-py"
  },
  "language_info": {
   "codemirror_mode": {
    "name": "ipython",
    "version": 3
   },
   "file_extension": ".py",
   "mimetype": "text/x-python",
   "name": "python",
   "nbconvert_exporter": "python",
   "pygments_lexer": "ipython3",
   "version": "3.12.7"
  }
 },
 "nbformat": 4,
 "nbformat_minor": 5
}
