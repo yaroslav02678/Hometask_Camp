{
 "cells": [
  {
   "cell_type": "code",
   "execution_count": 112,
   "id": "a2c63145-41e7-4922-8483-fee9be1b708a",
   "metadata": {},
   "outputs": [],
   "source": [
    "import pandas as pd\n",
    "import numpy as np"
   ]
  },
  {
   "cell_type": "code",
   "execution_count": 114,
   "id": "a4fd134a-9374-434d-ad9b-fb10f8de1ecd",
   "metadata": {},
   "outputs": [],
   "source": [
    "energy = pd.read_excel('Energy Indicators.xls', header = 17,\n",
    "                                                skipfooter = 38)"
   ]
  },
  {
   "cell_type": "code",
   "execution_count": 116,
   "id": "942aee2b-6027-4f9b-9371-3c9c452d9239",
   "metadata": {},
   "outputs": [],
   "source": [
    "energy.drop(columns=['Unnamed: 0', 'Unnamed: 1'], inplace=True)\n"
   ]
  },
  {
   "cell_type": "code",
   "execution_count": 118,
   "id": "5e3c812f-bd0a-4411-94b8-ebcb61cd5849",
   "metadata": {},
   "outputs": [],
   "source": [
    "energy.columns = ['Country', 'Energy Supply', 'Energy Supply per Capita', '% Renewable']\n"
   ]
  },
  {
   "cell_type": "code",
   "execution_count": 120,
   "id": "76c7177f-1681-4701-a741-fb08b1d65422",
   "metadata": {},
   "outputs": [],
   "source": [
    "energy['Energy Supply'] = energy['Energy Supply'] * 1_000_000\n"
   ]
  },
  {
   "cell_type": "code",
   "execution_count": 148,
   "id": "f6e0ff7c-9c0b-4493-8cb3-ccdabaa2fd59",
   "metadata": {},
   "outputs": [],
   "source": [
    "pd.set_option('future.no_silent_downcasting', True)\n",
    "energy.replace('...', np.nan, inplace=True)\n"
   ]
  },
  {
   "cell_type": "code",
   "execution_count": null,
   "id": "cbd1b984-8805-425e-8f50-4b9ba965263b",
   "metadata": {},
   "outputs": [],
   "source": [
    "pd.set_option('display.max_rows', None)  # Вивести всі рядки\n",
    "pd.set_option('display.max_columns', None)  # Вивести всі стовпці\n",
    "pd.set_option('display.width', None)  # Зняти обмеження на ширину\n",
    "pd.set_option('display.max_colwidth', None)  # Зняти обмеження на ширину стовпців\n",
    "\n",
    "# Вивести таблицю\n",
    "print(energy)"
   ]
  }
 ],
 "metadata": {
  "kernelspec": {
   "display_name": "Python [conda env:base] *",
   "language": "python",
   "name": "conda-base-py"
  },
  "language_info": {
   "codemirror_mode": {
    "name": "ipython",
    "version": 3
   },
   "file_extension": ".py",
   "mimetype": "text/x-python",
   "name": "python",
   "nbconvert_exporter": "python",
   "pygments_lexer": "ipython3",
   "version": "3.12.7"
  }
 },
 "nbformat": 4,
 "nbformat_minor": 5
}
